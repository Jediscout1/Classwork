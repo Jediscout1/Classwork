{
  "nbformat": 4,
  "nbformat_minor": 0,
  "metadata": {
    "colab": {
      "name": "Untitled0.ipynb",
      "provenance": []
    },
    "kernelspec": {
      "name": "python3",
      "display_name": "Python 3"
    }
  },
  "cells": [
    {
      "cell_type": "markdown",
      "metadata": {
        "id": "njC02RVMSbP3",
        "colab_type": "text"
      },
      "source": [
        "#***So Information About me***#\n",
        "\n",
        "So I am Chris Schmidt, someone who wants to become a video game developer.\n",
        "\n",
        "\n",
        "\n",
        "Something I do on the side of learning is I stream on **Twitch**, to try to make some money while I am still at school."
      ]
    }
  ]
}