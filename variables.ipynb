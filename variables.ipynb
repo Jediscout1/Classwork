{
  "nbformat": 4,
  "nbformat_minor": 0,
  "metadata": {
    "colab": {
      "name": "variables.ipynb",
      "provenance": [],
      "authorship_tag": "ABX9TyN1Ir1y4jNyh4DtYEJIZAMg",
      "include_colab_link": true
    },
    "kernelspec": {
      "name": "python3",
      "display_name": "Python 3"
    }
  },
  "cells": [
    {
      "cell_type": "markdown",
      "metadata": {
        "id": "view-in-github",
        "colab_type": "text"
      },
      "source": [
        "<a href=\"https://colab.research.google.com/github/Jediscout1/Classwork/blob/master/variables.ipynb\" target=\"_parent\"><img src=\"https://colab.research.google.com/assets/colab-badge.svg\" alt=\"Open In Colab\"/></a>"
      ]
    },
    {
      "cell_type": "code",
      "metadata": {
        "id": "OOLwk0HlXl-t",
        "colab_type": "code",
        "colab": {
          "base_uri": "https://localhost:8080/",
          "height": 68
        },
        "outputId": "45160994-2db2-49fc-c159-e24f4c59c111"
      },
      "source": [
        "vari1 = int( input(\"Please enter number of units purchased: \"))\n",
        "vari2 = 99\n",
        "if vari1 < 10:\n",
        "  vari3 = 0;\n",
        "elif vari1 < 20:\n",
        "  vari3 = 0.10\n",
        "elif vari1 < 50:\n",
        "  vari3 = 0.20\n",
        "elif vari1 < 100:\n",
        "  vari3 = 0.30\n",
        "else:\n",
        "  vari3 = 0.40\n",
        "vari4 = vari1 * vari2\n",
        "vari5 = vari3 * vari4\n",
        "vari6 = vari4 - vari5\n",
        "print (\"Discount is $\" + format(vari5, \",.2f\"))\n",
        "print (\"Total is $\" + format(vari6, \",.2f\"))"
      ],
      "execution_count": 66,
      "outputs": [
        {
          "output_type": "stream",
          "text": [
            "Please enter number of units purchased: 24\n",
            "Discount is $475.20\n",
            "Total is $1,900.80\n"
          ],
          "name": "stdout"
        }
      ]
    },
    {
      "cell_type": "code",
      "metadata": {
        "id": "isk8BROda_HX",
        "colab_type": "code",
        "colab": {
          "base_uri": "https://localhost:8080/",
          "height": 51
        },
        "outputId": "067ac127-00d4-4a5c-f577-cd0cdd909965"
      },
      "source": [
        "vari1 = int(input(\"Please insert weight of package: \"))\n",
        "if vari1 < 3:\n",
        "  vari2 = 1.50;\n",
        "elif vari1 < 7:\n",
        "  vari2 = 3.00\n",
        "elif vari1 < 11:\n",
        "  vari2 = 4.00\n",
        "else:\n",
        "  vari2 = 4.75\n",
        "vari3 = vari1 * vari2\n",
        "print(\"Shipping fee is $\" + format(vari3, \",.2f\"))"
      ],
      "execution_count": 69,
      "outputs": [
        {
          "output_type": "stream",
          "text": [
            "Please insert weight of package: 9\n",
            "Shipping fee is $36.00\n"
          ],
          "name": "stdout"
        }
      ]
    }
  ]
}